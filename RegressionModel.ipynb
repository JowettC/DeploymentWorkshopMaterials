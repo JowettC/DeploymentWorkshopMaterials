{
 "cells": [
  {
   "cell_type": "code",
   "execution_count": 2,
   "metadata": {},
   "outputs": [],
   "source": [
    "# for model and data\n",
    "\n",
    "import pandas as pd\n",
    "from sklearn import datasets\n",
    "\n",
    "from sklearn.linear_model import LogisticRegression\n",
    "from sklearn.model_selection import train_test_split\n",
    "from sklearn import metrics\n",
    "\n",
    "# for exporting model\n",
    "import pickle\n"
   ]
  },
  {
   "cell_type": "code",
   "execution_count": 3,
   "metadata": {},
   "outputs": [
    {
     "name": "stdout",
     "output_type": "stream",
     "text": [
      "Labels: ['sepal length (cm)', 'sepal width (cm)', 'petal length (cm)', 'petal width (cm)']\n",
      "Labels: ['setosa' 'versicolor' 'virginica']\n",
      "Data: 150\n"
     ]
    }
   ],
   "source": [
    "iris = datasets.load_iris()\n",
    "# features\n",
    "print(f\"Labels: {iris.feature_names}\")\n",
    "# labels\n",
    "print(f\"Labels: {iris.target_names}\")\n",
    "# data count\n",
    "print(f\"Data: {len(iris.data)}\")\n"
   ]
  },
  {
   "cell_type": "code",
   "execution_count": 8,
   "metadata": {},
   "outputs": [
    {
     "name": "stdout",
     "output_type": "stream",
     "text": [
      "Data for 1st row: [6.6 3.  4.4 1.4]\n",
      "Label for 1st row: 1\n",
      "\n",
      "Data for 2nd row: [6.3 2.5 5.  1.9]\n",
      "Label for 2nd row: 2\n",
      "\n",
      "Data for 3rd row: [5.5 3.5 1.3 0.2]\n",
      "Label for 3rd row: 0\n",
      "\n"
     ]
    }
   ],
   "source": [
    "import random\n",
    "randomIndex =[]\n",
    "for i in range(3):\n",
    "    randomIndex.append(random.randint(0, len(iris.data)))\n",
    "\n",
    "\n",
    "\n",
    "print(f\"Data for 1st row: {iris.data[randomIndex[0]]}\")\n",
    "print(f\"Label for 1st row: {iris.target[randomIndex[0]]}\\n\")\n",
    "print(f\"Data for 2nd row: {iris.data[randomIndex[1]]}\")\n",
    "print(f\"Label for 2nd row: {iris.target[randomIndex[1]]}\\n\")\n",
    "print(f\"Data for 3rd row: {iris.data[randomIndex[2]]}\")\n",
    "print(f\"Label for 3rd row: {iris.target[randomIndex[2]]}\\n\")\n"
   ]
  },
  {
   "cell_type": "code",
   "execution_count": 9,
   "metadata": {},
   "outputs": [],
   "source": [
    "X = iris.data\n",
    "y = iris.target\n",
    "\n",
    "X_train, X_test, y_train, y_test = train_test_split(X, y, random_state=0, train_size = .75)"
   ]
  },
  {
   "cell_type": "code",
   "execution_count": 10,
   "metadata": {},
   "outputs": [
    {
     "name": "stdout",
     "output_type": "stream",
     "text": [
      "0.9733333333333334\n"
     ]
    },
    {
     "name": "stderr",
     "output_type": "stream",
     "text": [
      "C:\\Users\\PM\\AppData\\Local\\Packages\\PythonSoftwareFoundation.Python.3.10_qbz5n2kfra8p0\\LocalCache\\local-packages\\Python310\\site-packages\\sklearn\\linear_model\\_logistic.py:444: ConvergenceWarning: lbfgs failed to converge (status=1):\n",
      "STOP: TOTAL NO. of ITERATIONS REACHED LIMIT.\n",
      "\n",
      "Increase the number of iterations (max_iter) or scale the data as shown in:\n",
      "    https://scikit-learn.org/stable/modules/preprocessing.html\n",
      "Please also refer to the documentation for alternative solver options:\n",
      "    https://scikit-learn.org/stable/modules/linear_model.html#logistic-regression\n",
      "  n_iter_i = _check_optimize_result(\n"
     ]
    },
    {
     "data": {
      "text/plain": [
       "array([2])"
      ]
     },
     "execution_count": 10,
     "metadata": {},
     "output_type": "execute_result"
    }
   ],
   "source": [
    "logreg = LogisticRegression()\n",
    "logreg.fit(X, y)\n",
    "y_pred = logreg.predict(X)\n",
    "print(metrics.accuracy_score(y, y_pred))\n",
    "\n",
    "logreg.predict([[3, 1, 4, 2]])"
   ]
  },
  {
   "cell_type": "code",
   "execution_count": 11,
   "metadata": {},
   "outputs": [],
   "source": [
    "filename = 'deploymentWorkshopModel.pkl'\n",
    "pickle.dump(logreg, open(filename, 'wb'))"
   ]
  }
 ],
 "metadata": {
  "kernelspec": {
   "display_name": "Python 3",
   "language": "python",
   "name": "python3"
  },
  "language_info": {
   "codemirror_mode": {
    "name": "ipython",
    "version": 3
   },
   "file_extension": ".py",
   "mimetype": "text/x-python",
   "name": "python",
   "nbconvert_exporter": "python",
   "pygments_lexer": "ipython3",
   "version": "3.10.10"
  },
  "orig_nbformat": 4,
  "vscode": {
   "interpreter": {
    "hash": "66248a3dd18bcdbf8d5feab444323792cfcd754206d511a0b67cba6195d53c56"
   }
  }
 },
 "nbformat": 4,
 "nbformat_minor": 2
}
